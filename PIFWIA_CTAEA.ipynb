{
  "nbformat": 4,
  "nbformat_minor": 0,
  "metadata": {
    "colab": {
      "name": "PIFWIA_CTAEA.ipynb",
      "provenance": [],
      "collapsed_sections": [],
      "include_colab_link": true
    },
    "kernelspec": {
      "name": "python3",
      "display_name": "Python 3"
    }
  },
  "cells": [
    {
      "cell_type": "markdown",
      "metadata": {
        "id": "view-in-github",
        "colab_type": "text"
      },
      "source": [
        "<a href=\"https://colab.research.google.com/github/alvarofpinheiro/pifwia_ctaea/blob/main/PIFWIA_CTAEA.ipynb\" target=\"_parent\"><img src=\"https://colab.research.google.com/assets/colab-badge.svg\" alt=\"Open In Colab\"/></a>"
      ]
    },
    {
      "cell_type": "markdown",
      "source": [
        "CTAEA - Two-Archive Evolutionary Algorithm for Constrained Multiobjective Optimization ou Algoritmo Evolutivo de Dois Arquivos para Otimização Multiobjetivo Restrita é uma metaheurística para otimização multiobjetivo.\n",
        "\n",
        "Li, K.; Chen, R.; Fu, G.; Yao, X. Two-Archive Evolutionary Algorithm for Constrained Multiobjective Optimization. IEEE Transactions on Evolutionary Computation, 23(2):303–315. http://doi.org/10.1109/TEVC.2018.2855411, 2019.\n",
        "\n",
        "pymoo: Multi-objective Optimization in Python https://pymoo.org/"
      ],
      "metadata": {
        "id": "Ji1oTtz8mE9L"
      }
    },
    {
      "cell_type": "code",
      "source": [
        "#instala biblioteca Orange Canvas e pymoo (otimização multiobjetivo)\n",
        "!pip install Orange3\n",
        "!pip install pymoo"
      ],
      "metadata": {
        "id": "AZL3imHRqNv4"
      },
      "execution_count": null,
      "outputs": []
    },
    {
      "cell_type": "code",
      "metadata": {
        "id": "kSF-_chACklb"
      },
      "source": [
        "#importa bibliotecas\n",
        "import Orange\n",
        "import random\n",
        "import math\n",
        "import numpy as np\n",
        "from tqdm import tqdm\n",
        "import matplotlib.pyplot as plt\n",
        "from numpy.random import choice\n",
        "from pymoo.algorithms.moo.ctaea import CTAEA\n",
        "from pymoo.factory import get_problem, get_reference_directions, get_visualization\n",
        "from pymoo.visualization.star_coordinate import StarCoordinate\n",
        "from pymoo.util.plotting import plot\n",
        "from pymoo.optimize import minimize\n",
        "from pymoo.visualization.scatter import Scatter\n",
        "from tqdm import tqdm"
      ],
      "execution_count": null,
      "outputs": []
    },
    {
      "cell_type": "code",
      "source": [
        "#define os hiperparâmetros\n",
        "OBJETIVOS = [\"Eficiência\",\"Eficácia\"] #quantidade de objetivos distintos a serem resolvidos\n",
        "DIMENSOES = 3 #determina a quantidade de dimensões do problema\n",
        "ITERACOES = 200 #quantiddade máxima de ciclos (episódios) especificando quantas explorações podem ser realizadas\n",
        "POPULACAO = 10 #tamanho da população correspondente ao indivíduo\n",
        "E1 = -100 #extremo esquerdo eixo x\n",
        "E2 = 100 #extremo direito eixo x\n",
        "E3 = -100 #extremo inferior eixo y\n",
        "E4 = 100 #extremo superior eixo y\n",
        "LIMITES = [E1, E4] #(bound) determina os valores mínimos e máximos do espaço de busca\n",
        "SEMENTE=1 #valor de inicialização\n",
        "INDIVIDUOS = [] #(swarm) array da criação dos indivíduos da população"
      ],
      "metadata": {
        "id": "eq1IiXrNqYjP"
      },
      "execution_count": null,
      "outputs": []
    },
    {
      "cell_type": "code",
      "source": [
        "#importa dados\n",
        "from google.colab import files  \n",
        "files.upload()"
      ],
      "metadata": {
        "id": "ZqKsxZlZq5_3"
      },
      "execution_count": null,
      "outputs": []
    },
    {
      "cell_type": "code",
      "source": [
        "#instancia objeto de dados com base no caminho gerado na importação do arquivo\n",
        "dados = Orange.data.Table(\"/content/dados.csv\")\n",
        "#explora os metadados e dados da arquivo importado\n",
        "qtde_campos = len(dados.domain.attributes)\n",
        "qtde_cont = sum(1 for a in dados.domain.attributes if a.is_continuous)\n",
        "qtde_disc = sum(1 for a in dados.domain.attributes if a.is_discrete)\n",
        "print(\"%d metadados: %d continuos, %d discretos\" % (qtde_campos, qtde_cont, qtde_disc))\n",
        "print(\"Nome dos metadados:\", \", \".join(dados.domain.attributes[i].name for i in range(qtde_campos)),)\n",
        "dados.domain.attributes #explora os domínios dos atributos (campos da base de dados)\n",
        "print(\"Registros:\", len(dados)) #explora os dados (quantidade de registros da base de dados)\n",
        "i = 0 #exibe os primeiros registros para análise dos dados importados\n",
        "for d in dados[:20]:\n",
        "  i += 1\n",
        "  #print(i, d)\n",
        "#cria arrays das dimensões do problema a ser otimizado\n",
        "procurador = []\n",
        "processo = []\n",
        "complexidade = [] #1-muito baixa complexidade;2-baixa complexidade;3-média complexidade;4-alta complexidade;e,5-muito alta complexidade\n",
        "pagina = []\n",
        "prazo = []\n",
        "revisao = []\n",
        "entrega = []\n",
        "valor = []\n",
        "i = 0\n",
        "for d in dados[:POPULACAO]:\n",
        "  procurador.append(d[0])\n",
        "  processo.append(d[1])\n",
        "  complexidade.append(d[2])\n",
        "  pagina.append(d[3])\n",
        "  prazo.append(d[4])\n",
        "  revisao.append(d[5])\n",
        "  entrega.append(d[6])\n",
        "  valor.append(d[7])\n",
        "  #print(\"id:\",i,\"procurador:\",procurador[i],\"processo:\",processo[i],\"complexidade:\",complexidade[i],\"página:\",pagina[i],\"prazo:\",prazo[i],\"revisões:\",revisao[i],\"entrega:\",entrega[i],\"valor:\",valor[i])\n",
        "  i += 1\n",
        "#definição dos pesos da função objetivo\n",
        "PESOS = [0.2,0.2,0.1,0.1,0.1,0.3] #f(x) = (0.2α + 0.2β + 0.1γ + 0.1δ + 0.1ε + 0.3θ) / 0.10\n",
        "pesos = []\n",
        "for i in range(DIMENSOES):\n",
        "  pesos.append(PESOS[i])\n",
        "print(pesos)"
      ],
      "metadata": {
        "id": "u1UUjLTBq8V-"
      },
      "execution_count": null,
      "outputs": []
    },
    {
      "cell_type": "code",
      "source": [
        "#inicializa população (indivíduos)\n",
        "populacao = []\n",
        "for i in range(POPULACAO):\n",
        "  cpx = complexidade[i]\n",
        "  pag = pagina[i]\n",
        "  prz = prazo[i]\n",
        "  rev = revisao[i]\n",
        "  ent = entrega[i]\n",
        "  val = valor[i]\n",
        "  posicao = 0\n",
        "  individuo = []\n",
        "  for j in range(DIMENSOES):\n",
        "    if (j==0):\n",
        "      posicao = cpx\n",
        "    elif (j==1):\n",
        "      posicao = pag\n",
        "    elif (j==2):\n",
        "      posicao = prz\n",
        "    elif (j==3):\n",
        "      posicao = rev\n",
        "    elif (j==4):\n",
        "      posicao = ent\n",
        "    elif (j==5):\n",
        "      posicao = val\n",
        "    else:\n",
        "      posicao = random.random()*(LIMITES[1]-LIMITES[0]) - LIMITES[1]\n",
        "    individuo.append(posicao)\n",
        "  populacao.append(individuo)\n",
        "  INDIVIDUOS = np.array(populacao)\n",
        "  aux = \"\"\n",
        "  for p in range(len(pesos)):\n",
        "    aux += str(pesos[p]) + \", \"\n",
        "  print(\"indivíduo:\",i,\"indivíduo:\",populacao[i],\"pesos:\",aux)"
      ],
      "metadata": {
        "colab": {
          "base_uri": "https://localhost:8080/"
        },
        "id": "K4pditml3Xe0",
        "outputId": "4bd5e234-f5f6-4091-a6b1-c5e16efad8eb"
      },
      "execution_count": null,
      "outputs": [
        {
          "output_type": "stream",
          "name": "stdout",
          "text": [
            "indivíduo: 0 indivíduo: [Value('COMPLEXIDADE', 2), Value('PAGINA', 37), Value('PRAZO', 10)] pesos: 0.2, 0.2, 0.1, \n",
            "indivíduo: 1 indivíduo: [Value('COMPLEXIDADE', 2), Value('PAGINA', 2), Value('PRAZO', 5)] pesos: 0.2, 0.2, 0.1, \n",
            "indivíduo: 2 indivíduo: [Value('COMPLEXIDADE', 4), Value('PAGINA', 82), Value('PRAZO', 15)] pesos: 0.2, 0.2, 0.1, \n",
            "indivíduo: 3 indivíduo: [Value('COMPLEXIDADE', 2), Value('PAGINA', 17), Value('PRAZO', 10)] pesos: 0.2, 0.2, 0.1, \n",
            "indivíduo: 4 indivíduo: [Value('COMPLEXIDADE', 3), Value('PAGINA', 11), Value('PRAZO', 10)] pesos: 0.2, 0.2, 0.1, \n",
            "indivíduo: 5 indivíduo: [Value('COMPLEXIDADE', 2), Value('PAGINA', 48), Value('PRAZO', 10)] pesos: 0.2, 0.2, 0.1, \n",
            "indivíduo: 6 indivíduo: [Value('COMPLEXIDADE', 1), Value('PAGINA', 18), Value('PRAZO', 10)] pesos: 0.2, 0.2, 0.1, \n",
            "indivíduo: 7 indivíduo: [Value('COMPLEXIDADE', 1), Value('PAGINA', 3), Value('PRAZO', 5)] pesos: 0.2, 0.2, 0.1, \n",
            "indivíduo: 8 indivíduo: [Value('COMPLEXIDADE', 2), Value('PAGINA', 4), Value('PRAZO', 5)] pesos: 0.2, 0.2, 0.1, \n",
            "indivíduo: 9 indivíduo: [Value('COMPLEXIDADE', 1), Value('PAGINA', 7), Value('PRAZO', 5)] pesos: 0.2, 0.2, 0.1, \n"
          ]
        }
      ]
    },
    {
      "cell_type": "code",
      "source": [
        "#define a função de cálculo\n",
        "def calcula(exibe):\n",
        "  problema = get_problem(FCUSTO, None, len(OBJETIVOS), k=5)\n",
        "  direcao = get_reference_directions(\"das-dennis\", len(OBJETIVOS), n_partitions=POPULACAO)\n",
        "  algoritmo = CTAEA(ref_dirs=direcao)\n",
        "  resultado = minimize(problema, #objeto Problema que contém o problema a ser resolvido\n",
        "    algoritmo, #objetivo de algoritmo que representa o algoritmo a ser usado\n",
        "    termination=('n_gen',ITERACOES), #um objeto que define quando o algoritmo termina\n",
        "    save_history=True, #um valor booleano que representa se um instantâneo do algoritmo deve ser armazenado em cada iteração\n",
        "    seed=SEMENTE, #semente com valor inteiro positivo garante resultados reproduzíveis \n",
        "    verbose=exibe) #valor booleano que define se a saída deve ser impressa durante a execução ou não\n",
        "  return (resultado)"
      ],
      "metadata": {
        "id": "YZfH-Bl_Pdfv"
      },
      "execution_count": null,
      "outputs": []
    },
    {
      "cell_type": "code",
      "source": [
        "#calcula a otimização\n",
        "c1dtlz = ['c1dtlz1', 'c1dtlz3', 'c2dtlz2', 'c3dtlz1', 'c3dtlz4']\n",
        "convex = ['convex_dtlz2', 'convex_dtlz4']\n",
        "ctp = ['ctp1', 'ctp2', 'ctp3', 'ctp4', 'ctp5', 'ctp6', 'ctp7', 'ctp8']\n",
        "dascmop = ['dascmop1', 'dascmop2', 'dascmop3', 'dascmop4', 'dascmop5', 'dascmop6', 'dascmop7', 'dascmop8', 'dascmop9'] #conjunto de testes multiobjetivo restrito com restrições ajustáveis\n",
        "dc1dtlz = ['dc1dtlz1', 'dc1dtlz3', 'dc2dtlz1', 'dc2dtlz3', 'dc3dtlz1', 'dc3dtlz3'] #para problemas de convergência em hiperplano de Pareto-ótimo\n",
        "dtlz = ['dtlz1^-1', 'dtlz1', 'dtlz2', 'dtlz3', 'dtlz4', 'dtlz5', 'dtlz6', 'dtlz7']\n",
        "g = ['g01', 'g02', 'g03', 'g04', 'g05', 'g06', 'g07', 'g08', 'g09', 'g10']\n",
        "mw = ['mw1', 'mw2', 'mw3', 'mw4', 'mw5', 'mw6', 'mw7', 'mw8', 'mw9', 'mw10', 'mw11', 'mw12', 'mw13', 'mw14'] #conjunto multi-objetivo restrito construído para problemas com até 4 restrições de desigualdade\n",
        "wfg = ['wfg1', 'wfg2', 'wfg3', 'wfg4', 'wfg5', 'wfg6', 'wfg7', 'wfg8', 'wfg9']\n",
        "zdt = ['zdt1', 'zdt2', 'zdt3', 'zdt4', 'zdt5', 'zdt6'] #dois objetivos devem ser minimizados\n",
        "outros = ['rosenbrock', 'schwefel', 'sphere', 'srn', 'tnk', 'truss2d', 'welded_beam', 'zakharov','ackley', 'bnh', 'carside','modact','sdtlz1','cantilevered_beam', 'griewank', 'himmelblau', 'knp', 'kursawe', 'osy', 'pressure_vessel', 'rastrigin']\n",
        "FCUSTO=dtlz[1] #zdt[0] #c1dtlz[0] #FCUSTO=dtlz[1] #FCUSTO=c1dtlz[0]\n",
        "resultado=calcula(True)"
      ],
      "metadata": {
        "colab": {
          "base_uri": "https://localhost:8080/"
        },
        "id": "dR7pg6ry4emW",
        "outputId": "d2ee9465-bc7a-4399-e1db-e56c3bf2bee4"
      },
      "execution_count": null,
      "outputs": [
        {
          "output_type": "stream",
          "name": "stdout",
          "text": [
            "============================================================\n",
            "n_gen |  n_eval |     igd      |      gd      |      hv     \n",
            "============================================================\n",
            "    1 |      11 |  2.04194E+02 |  3.02192E+02 |  0.00000E+00\n",
            "    2 |      22 |  1.41930E+02 |  2.25097E+02 |  0.00000E+00\n",
            "    3 |      33 |  1.14041E+02 |  2.34492E+02 |  0.00000E+00\n",
            "    4 |      44 |  1.09276E+02 |  1.98823E+02 |  0.00000E+00\n",
            "    5 |      55 |  1.00601E+02 |  1.88161E+02 |  0.00000E+00\n",
            "    6 |      66 |  9.58033E+01 |  2.15251E+02 |  0.00000E+00\n",
            "    7 |      77 |  9.58033E+01 |  2.00515E+02 |  0.00000E+00\n",
            "    8 |      88 |  7.59066E+01 |  7.98853E+01 |  0.00000E+00\n",
            "    9 |      99 |  7.59066E+01 |  1.01457E+02 |  0.00000E+00\n",
            "   10 |     110 |  7.59066E+01 |  1.01457E+02 |  0.00000E+00\n",
            "   11 |     121 |  6.64586E+01 |  9.53150E+01 |  0.00000E+00\n",
            "   12 |     132 |  6.64586E+01 |  7.81328E+01 |  0.00000E+00\n",
            "   13 |     143 |  6.64586E+01 |  7.84588E+01 |  0.00000E+00\n",
            "   14 |     154 |  6.64586E+01 |  7.81784E+01 |  0.00000E+00\n",
            "   15 |     165 |  5.18641E+01 |  6.58689E+01 |  0.00000E+00\n",
            "   16 |     176 |  3.63299E+01 |  6.07300E+01 |  0.00000E+00\n",
            "   17 |     187 |  3.63299E+01 |  6.55435E+01 |  0.00000E+00\n",
            "   18 |     198 |  3.63299E+01 |  5.30786E+01 |  0.00000E+00\n",
            "   19 |     209 |  3.63299E+01 |  5.98430E+01 |  0.00000E+00\n",
            "   20 |     220 |  3.63299E+01 |  7.94817E+01 |  0.00000E+00\n",
            "   21 |     231 |  3.63299E+01 |  7.91990E+01 |  0.00000E+00\n",
            "   22 |     242 |  3.63299E+01 |  7.90337E+01 |  0.00000E+00\n",
            "   23 |     253 |  3.63299E+01 |  7.90337E+01 |  0.00000E+00\n",
            "   24 |     264 |  3.63299E+01 |  7.79312E+01 |  0.00000E+00\n",
            "   25 |     275 |  3.36286E+01 |  7.75454E+01 |  0.00000E+00\n",
            "   26 |     286 |  3.36286E+01 |  5.32786E+01 |  0.00000E+00\n",
            "   27 |     297 |  3.36286E+01 |  5.32786E+01 |  0.00000E+00\n",
            "   28 |     308 |  3.36286E+01 |  4.93256E+01 |  0.00000E+00\n",
            "   29 |     319 |  3.36286E+01 |  4.90404E+01 |  0.00000E+00\n",
            "   30 |     330 |  3.36286E+01 |  4.90404E+01 |  0.00000E+00\n",
            "   31 |     341 |  3.36286E+01 |  4.86021E+01 |  0.00000E+00\n",
            "   32 |     352 |  3.36286E+01 |  4.65690E+01 |  0.00000E+00\n",
            "   33 |     363 |  3.36286E+01 |  4.41478E+01 |  0.00000E+00\n",
            "   34 |     374 |  3.57357E+01 |  4.45514E+01 |  0.00000E+00\n",
            "   35 |     385 |  2.53354E+01 |  4.30542E+01 |  0.00000E+00\n",
            "   36 |     396 |  2.53354E+01 |  4.29205E+01 |  0.00000E+00\n",
            "   37 |     407 |  2.53354E+01 |  4.29205E+01 |  0.00000E+00\n",
            "   38 |     418 |  2.53354E+01 |  4.29205E+01 |  0.00000E+00\n",
            "   39 |     429 |  2.53354E+01 |  4.29205E+01 |  0.00000E+00\n",
            "   40 |     440 |  2.53354E+01 |  4.06226E+01 |  0.00000E+00\n",
            "   41 |     451 |  2.53354E+01 |  4.06226E+01 |  0.00000E+00\n",
            "   42 |     462 |  2.53354E+01 |  4.08560E+01 |  0.00000E+00\n",
            "   43 |     473 |  2.53354E+01 |  3.99363E+01 |  0.00000E+00\n",
            "   44 |     484 |  2.53354E+01 |  4.08983E+01 |  0.00000E+00\n",
            "   45 |     495 |  2.53354E+01 |  3.93123E+01 |  0.00000E+00\n",
            "   46 |     506 |  2.53354E+01 |  3.88655E+01 |  0.00000E+00\n",
            "   47 |     517 |  2.53354E+01 |  3.88655E+01 |  0.00000E+00\n",
            "   48 |     528 |  2.53354E+01 |  3.88655E+01 |  0.00000E+00\n",
            "   49 |     539 |  2.53354E+01 |  3.70632E+01 |  0.00000E+00\n",
            "   50 |     550 |  2.53354E+01 |  3.70667E+01 |  0.00000E+00\n",
            "   51 |     561 |  2.53354E+01 |  3.70667E+01 |  0.00000E+00\n",
            "   52 |     572 |  2.43407E+01 |  3.63998E+01 |  0.00000E+00\n",
            "   53 |     583 |  2.43407E+01 |  3.77693E+01 |  0.00000E+00\n",
            "   54 |     594 |  2.43407E+01 |  3.62742E+01 |  0.00000E+00\n",
            "   55 |     605 |  2.43407E+01 |  3.62742E+01 |  0.00000E+00\n",
            "   56 |     616 |  2.43407E+01 |  3.60261E+01 |  0.00000E+00\n",
            "   57 |     627 |  2.43407E+01 |  3.58172E+01 |  0.00000E+00\n",
            "   58 |     638 |  2.43407E+01 |  3.58172E+01 |  0.00000E+00\n",
            "   59 |     649 |  2.43407E+01 |  3.58172E+01 |  0.00000E+00\n",
            "   60 |     660 |  2.43407E+01 |  3.58172E+01 |  0.00000E+00\n",
            "   61 |     671 |  2.10186E+01 |  3.27462E+01 |  0.00000E+00\n",
            "   62 |     682 |  2.10186E+01 |  3.27462E+01 |  0.00000E+00\n",
            "   63 |     693 |  2.10186E+01 |  3.27462E+01 |  0.00000E+00\n",
            "   64 |     704 |  2.10186E+01 |  3.15770E+01 |  0.00000E+00\n",
            "   65 |     715 |  2.10186E+01 |  3.04621E+01 |  0.00000E+00\n",
            "   66 |     726 |  2.10186E+01 |  3.04114E+01 |  0.00000E+00\n",
            "   67 |     737 |  2.10186E+01 |  3.04114E+01 |  0.00000E+00\n",
            "   68 |     748 |  2.10186E+01 |  3.04114E+01 |  0.00000E+00\n",
            "   69 |     759 |  2.10186E+01 |  2.83061E+01 |  0.00000E+00\n",
            "   70 |     770 |  2.10186E+01 |  2.76298E+01 |  0.00000E+00\n",
            "   71 |     781 |  1.95108E+01 |  2.78094E+01 |  0.00000E+00\n",
            "   72 |     792 |  1.95108E+01 |  2.78094E+01 |  0.00000E+00\n",
            "   73 |     803 |  1.95108E+01 |  2.78094E+01 |  0.00000E+00\n",
            "   74 |     814 |  1.92155E+01 |  2.45236E+01 |  0.00000E+00\n",
            "   75 |     825 |  1.92155E+01 |  2.45236E+01 |  0.00000E+00\n",
            "   76 |     836 |  1.92155E+01 |  2.45236E+01 |  0.00000E+00\n",
            "   77 |     847 |  1.92005E+01 |  2.45533E+01 |  0.00000E+00\n",
            "   78 |     858 |  1.92005E+01 |  2.41620E+01 |  0.00000E+00\n",
            "   79 |     869 |  1.91842E+01 |  2.33505E+01 |  0.00000E+00\n",
            "   80 |     880 |  1.91842E+01 |  2.33453E+01 |  0.00000E+00\n",
            "   81 |     891 |  1.91842E+01 |  2.32589E+01 |  0.00000E+00\n",
            "   82 |     902 |  1.91842E+01 |  2.32589E+01 |  0.00000E+00\n",
            "   83 |     913 |  1.84771E+01 |  2.23733E+01 |  0.00000E+00\n",
            "   84 |     924 |  1.84771E+01 |  2.19535E+01 |  0.00000E+00\n",
            "   85 |     935 |  1.79631E+01 |  2.22002E+01 |  0.00000E+00\n",
            "   86 |     946 |  1.79631E+01 |  2.19773E+01 |  0.00000E+00\n",
            "   87 |     957 |  1.79631E+01 |  2.21182E+01 |  0.00000E+00\n",
            "   88 |     968 |  1.79631E+01 |  2.21048E+01 |  0.00000E+00\n",
            "   89 |     979 |  1.79631E+01 |  2.21048E+01 |  0.00000E+00\n",
            "   90 |     990 |  1.79631E+01 |  2.17439E+01 |  0.00000E+00\n",
            "   91 |    1001 |  1.79631E+01 |  2.14847E+01 |  0.00000E+00\n",
            "   92 |    1012 |  1.79631E+01 |  2.14684E+01 |  0.00000E+00\n",
            "   93 |    1023 |  1.72322E+01 |  2.08684E+01 |  0.00000E+00\n",
            "   94 |    1034 |  1.72322E+01 |  2.07302E+01 |  0.00000E+00\n",
            "   95 |    1045 |  1.72322E+01 |  2.07302E+01 |  0.00000E+00\n",
            "   96 |    1056 |  1.72322E+01 |  2.08409E+01 |  0.00000E+00\n",
            "   97 |    1067 |  1.72322E+01 |  2.08409E+01 |  0.00000E+00\n",
            "   98 |    1078 |  1.72322E+01 |  2.04615E+01 |  0.00000E+00\n",
            "   99 |    1089 |  1.72322E+01 |  1.94637E+01 |  0.00000E+00\n",
            "  100 |    1100 |  1.70814E+01 |  1.93628E+01 |  0.00000E+00\n",
            "  101 |    1111 |  1.70814E+01 |  1.94424E+01 |  0.00000E+00\n",
            "  102 |    1122 |  1.70814E+01 |  1.91509E+01 |  0.00000E+00\n",
            "  103 |    1133 |  1.70814E+01 |  1.90836E+01 |  0.00000E+00\n",
            "  104 |    1144 |  1.70814E+01 |  1.87923E+01 |  0.00000E+00\n",
            "  105 |    1155 |  1.70814E+01 |  1.89918E+01 |  0.00000E+00\n",
            "  106 |    1166 |  1.70814E+01 |  2.17427E+01 |  0.00000E+00\n",
            "  107 |    1177 |  1.70814E+01 |  2.17181E+01 |  0.00000E+00\n",
            "  108 |    1188 |  1.48334E+01 |  2.16661E+01 |  0.00000E+00\n",
            "  109 |    1199 |  1.48334E+01 |  1.89574E+01 |  0.00000E+00\n",
            "  110 |    1210 |  1.48334E+01 |  1.89600E+01 |  0.00000E+00\n",
            "  111 |    1221 |  1.48334E+01 |  1.89486E+01 |  0.00000E+00\n",
            "  112 |    1232 |  1.48334E+01 |  1.86420E+01 |  0.00000E+00\n",
            "  113 |    1243 |  1.48334E+01 |  1.86420E+01 |  0.00000E+00\n",
            "  114 |    1254 |  1.48334E+01 |  1.81693E+01 |  0.00000E+00\n",
            "  115 |    1265 |  1.48334E+01 |  1.80002E+01 |  0.00000E+00\n",
            "  116 |    1276 |  1.19540E+01 |  1.78974E+01 |  0.00000E+00\n",
            "  117 |    1287 |  1.19540E+01 |  1.78974E+01 |  0.00000E+00\n",
            "  118 |    1298 |  1.19540E+01 |  1.78482E+01 |  0.00000E+00\n",
            "  119 |    1309 |  1.19540E+01 |  1.80539E+01 |  0.00000E+00\n",
            "  120 |    1320 |  1.19540E+01 |  1.78121E+01 |  0.00000E+00\n",
            "  121 |    1331 |  1.19540E+01 |  1.78905E+01 |  0.00000E+00\n",
            "  122 |    1342 |  1.19540E+01 |  1.78905E+01 |  0.00000E+00\n",
            "  123 |    1353 |  1.19540E+01 |  1.78905E+01 |  0.00000E+00\n",
            "  124 |    1364 |  1.19540E+01 |  1.65862E+01 |  0.00000E+00\n",
            "  125 |    1375 |  1.19540E+01 |  1.68580E+01 |  0.00000E+00\n",
            "  126 |    1386 |  1.19540E+01 |  1.64577E+01 |  0.00000E+00\n",
            "  127 |    1397 |  1.19540E+01 |  1.69616E+01 |  0.00000E+00\n",
            "  128 |    1408 |  1.19540E+01 |  1.72295E+01 |  0.00000E+00\n",
            "  129 |    1419 |  1.19540E+01 |  1.71418E+01 |  0.00000E+00\n",
            "  130 |    1430 |  1.19540E+01 |  1.67170E+01 |  0.00000E+00\n",
            "  131 |    1441 |  1.19540E+01 |  1.66146E+01 |  0.00000E+00\n",
            "  132 |    1452 |  1.19224E+01 |  1.58682E+01 |  0.00000E+00\n",
            "  133 |    1463 |  1.18241E+01 |  1.58561E+01 |  0.00000E+00\n",
            "  134 |    1474 |  1.18241E+01 |  1.61333E+01 |  0.00000E+00\n",
            "  135 |    1485 |  8.273684435 |  1.63533E+01 |  0.00000E+00\n",
            "  136 |    1496 |  8.273684435 |  1.57474E+01 |  0.00000E+00\n",
            "  137 |    1507 |  8.273684435 |  1.54329E+01 |  0.00000E+00\n",
            "  138 |    1518 |  8.273684435 |  1.54329E+01 |  0.00000E+00\n",
            "  139 |    1529 |  8.273684435 |  1.58084E+01 |  0.00000E+00\n",
            "  140 |    1540 |  8.273684435 |  1.57582E+01 |  0.00000E+00\n",
            "  141 |    1551 |  8.120927953 |  1.53154E+01 |  0.00000E+00\n",
            "  142 |    1562 |  8.120927953 |  1.48977E+01 |  0.00000E+00\n",
            "  143 |    1573 |  8.120927953 |  1.48790E+01 |  0.00000E+00\n",
            "  144 |    1584 |  8.120690513 |  1.30220E+01 |  0.00000E+00\n",
            "  145 |    1595 |  8.120690513 |  1.38357E+01 |  0.00000E+00\n",
            "  146 |    1606 |  8.120690513 |  1.30220E+01 |  0.00000E+00\n",
            "  147 |    1617 |  8.120690513 |  1.37419E+01 |  0.00000E+00\n",
            "  148 |    1628 |  7.600934105 |  1.24649E+01 |  0.00000E+00\n",
            "  149 |    1639 |  7.600934105 |  1.29393E+01 |  0.00000E+00\n",
            "  150 |    1650 |  7.600934105 |  1.29393E+01 |  0.00000E+00\n",
            "  151 |    1661 |  7.600934105 |  1.29393E+01 |  0.00000E+00\n",
            "  152 |    1672 |  7.600934105 |  1.30076E+01 |  0.00000E+00\n",
            "  153 |    1683 |  7.600934105 |  1.20545E+01 |  0.00000E+00\n",
            "  154 |    1694 |  7.600934105 |  2.15841E+01 |  0.00000E+00\n",
            "  155 |    1705 |  7.600934105 |  1.35513E+01 |  0.00000E+00\n",
            "  156 |    1716 |  7.600934105 |  1.19304E+01 |  0.00000E+00\n",
            "  157 |    1727 |  7.585068182 |  1.18783E+01 |  0.00000E+00\n",
            "  158 |    1738 |  7.585068182 |  1.18712E+01 |  0.00000E+00\n",
            "  159 |    1749 |  7.585068182 |  1.35996E+01 |  0.00000E+00\n",
            "  160 |    1760 |  7.585068182 |  1.11458E+01 |  0.00000E+00\n",
            "  161 |    1771 |  7.585068182 |  1.11458E+01 |  0.00000E+00\n",
            "  162 |    1782 |  7.585068182 |  1.11513E+01 |  0.00000E+00\n",
            "  163 |    1793 |  7.585068182 |  1.09694E+01 |  0.00000E+00\n",
            "  164 |    1804 |  7.515090160 |  1.03040E+01 |  0.00000E+00\n",
            "  165 |    1815 |  7.515090160 |  1.03006E+01 |  0.00000E+00\n",
            "  166 |    1826 |  7.515090160 |  1.03000E+01 |  0.00000E+00\n",
            "  167 |    1837 |  7.515090160 |  1.03000E+01 |  0.00000E+00\n",
            "  168 |    1848 |  7.515090160 |  9.979080340 |  0.00000E+00\n",
            "  169 |    1859 |  7.515090160 |  9.968218968 |  0.00000E+00\n",
            "  170 |    1870 |  7.515090160 |  9.603214353 |  0.00000E+00\n",
            "  171 |    1881 |  7.515090160 |  9.603214353 |  0.00000E+00\n",
            "  172 |    1892 |  7.515090160 |  9.603214353 |  0.00000E+00\n",
            "  173 |    1903 |  7.515090160 |  1.04401E+01 |  0.00000E+00\n",
            "  174 |    1914 |  7.498697396 |  1.04066E+01 |  0.00000E+00\n",
            "  175 |    1925 |  7.498697396 |  1.04066E+01 |  0.00000E+00\n",
            "  176 |    1936 |  7.498697396 |  9.552134209 |  0.00000E+00\n",
            "  177 |    1947 |  7.503379662 |  2.03194E+01 |  0.00000E+00\n",
            "  178 |    1958 |  7.503379662 |  2.05033E+01 |  0.00000E+00\n",
            "  179 |    1969 |  7.503379662 |  2.05609E+01 |  0.00000E+00\n",
            "  180 |    1980 |  7.503379662 |  2.05609E+01 |  0.00000E+00\n",
            "  181 |    1991 |  7.503379662 |  2.05550E+01 |  0.00000E+00\n",
            "  182 |    2002 |  7.503379662 |  2.05550E+01 |  0.00000E+00\n",
            "  183 |    2013 |  6.052658203 |  2.03468E+01 |  0.00000E+00\n",
            "  184 |    2024 |  6.052658203 |  9.447446877 |  0.00000E+00\n",
            "  185 |    2035 |  6.052658203 |  9.447446297 |  0.00000E+00\n",
            "  186 |    2046 |  6.052658203 |  9.431456909 |  0.00000E+00\n",
            "  187 |    2057 |  6.052658203 |  9.380607208 |  0.00000E+00\n",
            "  188 |    2068 |  6.052658203 |  9.506028677 |  0.00000E+00\n",
            "  189 |    2079 |  6.052658203 |  9.493219550 |  0.00000E+00\n",
            "  190 |    2090 |  6.052658203 |  9.493219546 |  0.00000E+00\n",
            "  191 |    2101 |  6.052658203 |  9.500067640 |  0.00000E+00\n",
            "  192 |    2112 |  5.481168321 |  9.534555602 |  0.00000E+00\n",
            "  193 |    2123 |  5.481168321 |  9.512730733 |  0.00000E+00\n",
            "  194 |    2134 |  5.481168321 |  8.949044176 |  0.00000E+00\n",
            "  195 |    2145 |  5.481168321 |  8.943393212 |  0.00000E+00\n",
            "  196 |    2156 |  5.481168321 |  8.541972709 |  0.00000E+00\n",
            "  197 |    2167 |  5.481168321 |  8.153646511 |  0.00000E+00\n",
            "  198 |    2178 |  5.464381881 |  8.130806263 |  0.00000E+00\n",
            "  199 |    2189 |  5.464381881 |  8.280012320 |  0.00000E+00\n",
            "  200 |    2200 |  5.464381881 |  8.234428702 |  0.00000E+00\n"
          ]
        }
      ]
    },
    {
      "cell_type": "code",
      "source": [
        "#plota o resultado dos valores de espaços objetivos (resultado.F)\n",
        "approx_ideal = resultado.F.min(axis=0)\n",
        "approx_nadir = resultado.F.max(axis=0)\n",
        "solucao = []\n",
        "for i in range(len(OBJETIVOS)):\n",
        "  try:\n",
        "    pnt = int(str(approx_ideal[i])[0:1])\n",
        "  except:\n",
        "    pnt = 1\n",
        "  if (len(OBJETIVOS)>2):\n",
        "    if (i>0):\n",
        "      pnt = pnt + POPULACAO * (i*len(OBJETIVOS))\n",
        "  solucao.append(pnt)\n",
        "rotulo = []\n",
        "cores = [\"red\",\"blue\",\"black\",\"green\",\"pink\",\"brown\"]\n",
        "DIRECAO = get_reference_directions(\"uniform\", len(OBJETIVOS), n_partitions=POPULACAO)\n",
        "F = get_problem(FCUSTO).pareto_front(DIRECAO)\n",
        "SC = StarCoordinate(title=\"Otimização Multiobjetivo\", \n",
        "  legend=(True, {'loc': \"upper left\", 'bbox_to_anchor': (-0.1, 1.08, 0, 0)}),\n",
        "  labels=OBJETIVOS,\n",
        "  axis_style={\"color\": \"blue\", 'alpha': 0.7},\n",
        "  arrow_style={\"head_length\": 0.015, \"head_width\": 0.03})\n",
        "SC.add(F, color=\"grey\", s=20)\n",
        "j = len(OBJETIVOS)-1\n",
        "for i in range(len(OBJETIVOS)):\n",
        "  SC.add(F[solucao[i]], color=cores[i], s=60, label=OBJETIVOS[j-i])\n",
        "SC.show()"
      ],
      "metadata": {
        "colab": {
          "base_uri": "https://localhost:8080/",
          "height": 395
        },
        "id": "CSFL4Z1Bn_Te",
        "outputId": "c95ccde9-10ec-42a2-d961-a66d7c9ee370"
      },
      "execution_count": null,
      "outputs": [
        {
          "output_type": "execute_result",
          "data": {
            "text/plain": [
              "<pymoo.visualization.star_coordinate.StarCoordinate at 0x7f9fcc1db110>"
            ]
          },
          "metadata": {},
          "execution_count": 22
        },
        {
          "output_type": "display_data",
          "data": {
            "text/plain": [
              "<Figure size 576x432 with 1 Axes>"
            ],
            "image/png": "[encoded data removed]"
          },
          "metadata": {}
        }
      ]
    },
    {
      "cell_type": "code",
      "source": [
        "#exibe curva de convergência dos indivíduos\n",
        "retorno = [np.min(e.pop.get(\"F\")) for e in resultado.history]\n",
        "plt.plot(np.arange(len(retorno)),retorno)\n",
        "plt.title(\"Curva de Convergência do CTAEA\")\n",
        "plt.xlabel(\"Iterações\")\n",
        "plt.ylabel(\"Melhores Posições (F)\")\n",
        "plt.show()"
      ],
      "metadata": {
        "colab": {
          "base_uri": "https://localhost:8080/",
          "height": 295
        },
        "id": "E5Mjqtb8qJJS",
        "outputId": "15694cee-fb90-4a14-b0d1-35148a62030c"
      },
      "execution_count": null,
      "outputs": [
        {
          "output_type": "display_data",
          "data": {
            "text/plain": [
              "<Figure size 432x288 with 1 Axes>"
            ],
            "image/png": "[encoded data removed]"
          },
          "metadata": {
            "needs_background": "light"
          }
        }
      ]
    },
    {
      "cell_type": "code",
      "source": [
        "#exibe os resultados\n",
        "print(\"n_gen=número de iterações (gerações) | n_eval=número de avaliações | igd=desempenho distância geracional invertida | gd=desempenho da distância geracional | hv=hypervolume\")\n",
        "#resultados F\n",
        "for i in range(POPULACAO):\n",
        "  print(\"i:\",i,\"espaços objetivos:\",resultado.F[i])\n",
        "#resultados pop\n",
        "popfim = resultado.pop\n",
        "popfimF = popfim.get(\"F\")\n",
        "popfimX = popfim.get(\"X\")\n",
        "for i in range(POPULACAO):\n",
        "  print(\"i:\",i,\"população final F=espeço objetivo:\",popfimF[i])\n",
        "for i in range(POPULACAO):\n",
        "  print(\"i:\",i,\"população final X=espeço de busca:\",popfimX[i])\n",
        "#resultados X\n",
        "for i in range(POPULACAO):\n",
        "  print(\"i:\",i,\"espaço de design:\",resultado.X[i])\n",
        "#resultados G\n",
        "for i in range(POPULACAO):\n",
        "  print(\"i:\",i,\"valores de restrição:\",resultado.G[i])\n",
        "#resultados CV\n",
        "for i in range(POPULACAO):\n",
        "  print(\"i:\",i,\"violação de restrição agregada:\",resultado.CV[i])\n",
        "#resultados opt\n",
        "sol = resultado.opt\n",
        "solF = sol.get(\"F\")\n",
        "solX = sol.get(\"X\")\n",
        "for i in range(POPULACAO):\n",
        "  print(\"i:\",i,\"soluções:\",solF[i])\n",
        "#resultados history\n",
        "his = resultado.history\n",
        "for i in range(ITERACOES):\n",
        "  ele = his[i]\n",
        "  print(\"i:\",i,\"elemento:\",ele)"
      ],
      "metadata": {
        "id": "x31Y3ZlbqU1q",
        "colab": {
          "base_uri": "https://localhost:8080/",
          "height": 252
        },
        "outputId": "ee72cb75-29b9-42da-cf72-a5037c1cb7a5"
      },
      "execution_count": null,
      "outputs": [
        {
          "output_type": "stream",
          "name": "stdout",
          "text": [
            "n_gen=número de iterações (gerações) | n_eval=número de avaliações | igd=desempenho distância geracional invertida | gd=desempenho da distância geracional | hv=hypervolume\n"
          ]
        },
        {
          "output_type": "error",
          "ename": "AttributeError",
          "evalue": "ignored",
          "traceback": [
            "\u001b[0;31m---------------------------------------------------------------------------\u001b[0m",
            "\u001b[0;31mAttributeError\u001b[0m                            Traceback (most recent call last)",
            "\u001b[0;32m<ipython-input-19-7e5d1ee7f056>\u001b[0m in \u001b[0;36m<module>\u001b[0;34m()\u001b[0m\n\u001b[1;32m      3\u001b[0m \u001b[0;31m#resultados F\u001b[0m\u001b[0;34m\u001b[0m\u001b[0;34m\u001b[0m\u001b[0;34m\u001b[0m\u001b[0m\n\u001b[1;32m      4\u001b[0m \u001b[0;32mfor\u001b[0m \u001b[0mi\u001b[0m \u001b[0;32min\u001b[0m \u001b[0mrange\u001b[0m\u001b[0;34m(\u001b[0m\u001b[0mPOPULACAO\u001b[0m\u001b[0;34m)\u001b[0m\u001b[0;34m:\u001b[0m\u001b[0;34m\u001b[0m\u001b[0;34m\u001b[0m\u001b[0m\n\u001b[0;32m----> 5\u001b[0;31m   \u001b[0mprint\u001b[0m\u001b[0;34m(\u001b[0m\u001b[0;34m\"i:\"\u001b[0m\u001b[0;34m,\u001b[0m\u001b[0mi\u001b[0m\u001b[0;34m,\u001b[0m\u001b[0;34m\"espaços objetivos:\"\u001b[0m\u001b[0;34m,\u001b[0m\u001b[0mresultado\u001b[0m\u001b[0;34m.\u001b[0m\u001b[0mF\u001b[0m\u001b[0;34m[\u001b[0m\u001b[0mi\u001b[0m\u001b[0;34m]\u001b[0m\u001b[0;34m)\u001b[0m\u001b[0;34m\u001b[0m\u001b[0;34m\u001b[0m\u001b[0m\n\u001b[0m\u001b[1;32m      6\u001b[0m \u001b[0;31m#resultados pop\u001b[0m\u001b[0;34m\u001b[0m\u001b[0;34m\u001b[0m\u001b[0;34m\u001b[0m\u001b[0m\n\u001b[1;32m      7\u001b[0m \u001b[0mpopfim\u001b[0m \u001b[0;34m=\u001b[0m \u001b[0mresultado\u001b[0m\u001b[0;34m.\u001b[0m\u001b[0mpop\u001b[0m\u001b[0;34m\u001b[0m\u001b[0;34m\u001b[0m\u001b[0m\n",
            "\u001b[0;31mAttributeError\u001b[0m: 'NoneType' object has no attribute 'F'"
          ]
        }
      ]
    }
  ]
}